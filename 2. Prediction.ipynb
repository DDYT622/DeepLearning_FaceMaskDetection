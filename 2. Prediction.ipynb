{
 "cells": [
  {
   "cell_type": "code",
   "execution_count": 5,
   "id": "bd955a2b",
   "metadata": {},
   "outputs": [],
   "source": [
    "from keras.models import load_model"
   ]
  },
  {
   "cell_type": "code",
   "execution_count": 12,
   "id": "1811d6ef",
   "metadata": {},
   "outputs": [
    {
     "name": "stdout",
     "output_type": "stream",
     "text": [
      "Model: \"sequential\"\n",
      "_________________________________________________________________\n",
      "Layer (type)                 Output Shape              Param #   \n",
      "=================================================================\n",
      "mobilenetv2_1.00_224 (Functi (None, 10, 13, 1280)      2257984   \n",
      "_________________________________________________________________\n",
      "average_pooling2d (AveragePo (None, 1, 1, 1280)        0         \n",
      "_________________________________________________________________\n",
      "flatten (Flatten)            (None, 1280)              0         \n",
      "_________________________________________________________________\n",
      "dense (Dense)                (None, 512)               655872    \n",
      "_________________________________________________________________\n",
      "dropout (Dropout)            (None, 512)               0         \n",
      "_________________________________________________________________\n",
      "dense_1 (Dense)              (None, 128)               65664     \n",
      "_________________________________________________________________\n",
      "dropout_1 (Dropout)          (None, 128)               0         \n",
      "_________________________________________________________________\n",
      "dense_2 (Dense)              (None, 3)                 387       \n",
      "=================================================================\n",
      "Total params: 2,979,907\n",
      "Trainable params: 721,923\n",
      "Non-trainable params: 2,257,984\n",
      "_________________________________________________________________\n"
     ]
    }
   ],
   "source": [
    "model = load_model('./models/best_model.h5')\n",
    "model.summary()\n",
    "\n",
    "labels = ['correct mask', 'incorrect mask', 'not mask']"
   ]
  },
  {
   "cell_type": "code",
   "execution_count": 22,
   "id": "2201ecba",
   "metadata": {},
   "outputs": [],
   "source": [
    "from keras.preprocessing.image import load_img, img_to_array, ImageDataGenerator\n",
    "from keras.applications.mobilenet_v2 import preprocess_input\n",
    "\n",
    "#load the image\n",
    "my_image = load_img(\"./datasets/processed/correct_mask/03802_Mask.jpg\", target_size=(300, 400))\n",
    "\n",
    "#preprocess the image\n",
    "my_image = img_to_array(my_image)\n",
    "my_image = my_image.reshape((1, my_image.shape[0], my_image.shape[1], my_image.shape[2]))\n",
    "my_image = preprocess_input(my_image)\n",
    "\n",
    "#make the prediction\n",
    "prediction = model.predict(my_image)"
   ]
  },
  {
   "cell_type": "code",
   "execution_count": 23,
   "id": "7d9edfc4",
   "metadata": {},
   "outputs": [
    {
     "name": "stdout",
     "output_type": "stream",
     "text": [
      "correct mask\n",
      "98.03\n"
     ]
    }
   ],
   "source": [
    "import numpy as np\n",
    "print(labels[np.argmax(prediction)])\n",
    "print(round(np.max(prediction) * 100, 2))"
   ]
  },
  {
   "cell_type": "code",
   "execution_count": 5,
   "id": "adfe559f",
   "metadata": {},
   "outputs": [],
   "source": [
    "import cv2\n",
    "\n",
    "stream = cv2.VideoCapture('https://192.168.1.3:4343/video')\n",
    "\n",
    "# Use the next line if your camera has a username and password\n",
    "# stream = cv2.VideoCapture('protocol://username:password@IP:port/1')  \n",
    "run = True\n",
    "try:\n",
    "    while run:\n",
    "\n",
    "        r, f = stream.read()\n",
    "        cv2.imshow('IP Camera stream',f)\n",
    "\n",
    "        if cv2.waitKey(1) & 0xFF == ord('q'):\n",
    "            run = False\n",
    "\n",
    "    cv2.destroyAllWindows()\n",
    "except:\n",
    "    run = False"
   ]
  }
 ],
 "metadata": {
  "kernelspec": {
   "display_name": "Python 3",
   "language": "python",
   "name": "python3"
  },
  "language_info": {
   "codemirror_mode": {
    "name": "ipython",
    "version": 3
   },
   "file_extension": ".py",
   "mimetype": "text/x-python",
   "name": "python",
   "nbconvert_exporter": "python",
   "pygments_lexer": "ipython3",
   "version": "3.8.8"
  }
 },
 "nbformat": 4,
 "nbformat_minor": 5
}
